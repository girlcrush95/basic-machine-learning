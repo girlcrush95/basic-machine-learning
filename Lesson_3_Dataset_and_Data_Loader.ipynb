{
  "nbformat": 4,
  "nbformat_minor": 0,
  "metadata": {
    "colab": {
      "provenance": [],
      "authorship_tag": "ABX9TyP+7gsucCE9sZPXXC39n9Eh",
      "include_colab_link": true
    },
    "kernelspec": {
      "name": "python3",
      "display_name": "Python 3"
    },
    "language_info": {
      "name": "python"
    }
  },
  "cells": [
    {
      "cell_type": "markdown",
      "metadata": {
        "id": "view-in-github",
        "colab_type": "text"
      },
      "source": [
        "<a href=\"https://colab.research.google.com/github/girlcrush95/basic-machine-learning/blob/main/Lesson_3_Dataset_and_Data_Loader.ipynb\" target=\"_parent\"><img src=\"https://colab.research.google.com/assets/colab-badge.svg\" alt=\"Open In Colab\"/></a>"
      ]
    },
    {
      "cell_type": "code",
      "execution_count": 2,
      "metadata": {
        "id": "KLt0Ti4t8HlN"
      },
      "outputs": [],
      "source": [
        "import numpy as np\n",
        "import torch\n",
        "import pandas as pd\n",
        "from torch.utils.data import Dataset, DataLoader, random_split\n",
        "from sklearn.preprocessing import LabelEncoder"
      ]
    },
    {
      "cell_type": "code",
      "source": [
        "file      = pd.read_csv(\"Fetus_trainingdata.csv\")\n",
        "file_test = pd.read_csv(\"Fetus_testingdata.csv\")"
      ],
      "metadata": {
        "id": "kA1peA8Z8W7G"
      },
      "execution_count": 38,
      "outputs": []
    },
    {
      "cell_type": "code",
      "source": [
        "file.head()"
      ],
      "metadata": {
        "id": "C0CB2zkS8pjJ"
      },
      "execution_count": null,
      "outputs": []
    },
    {
      "cell_type": "code",
      "source": [
        "#Read data and convert to Numpy arrays for traindata\n",
        "X = file.iloc[:, 1:].values\n",
        "y = file.iloc[:, 0].values\n",
        "\n",
        "X_test = file_test.iloc[:, 1:].values\n",
        "y_test = file_test.iloc[:, 0].values\n",
        "\n",
        "print(X)\n",
        "print(y)\n",
        "print(X_test)\n",
        "print(y_test)"
      ],
      "metadata": {
        "id": "sqSH6WIVW0q-"
      },
      "execution_count": null,
      "outputs": []
    },
    {
      "cell_type": "code",
      "source": [
        "#Encode class values as integers\n",
        "encoder = LabelEncoder()\n",
        "encoder.fit(y)\n",
        "\n",
        "#y = encoder.transform(y)\n",
        "y       = torch.tensor(encoder.transform(y), dtype=torch.float32)\n",
        "y_test  = torch.tensor(encoder.transform(y_test), dtype=torch.float32)\n",
        "\n",
        "print(y)\n",
        "print(y_test)"
      ],
      "metadata": {
        "id": "iyLAimL_XJ5g"
      },
      "execution_count": null,
      "outputs": []
    },
    {
      "cell_type": "markdown",
      "source": [
        "class FetusDataset(Dataset):\n",
        "  def __init__(self, features, target):\n",
        "    self.features = features\n",
        "    self.target   = target\n",
        "\n",
        "  def __len__(self):\n",
        "    return len(self.features)\n",
        "\n",
        "  def __getitem__(self, idx):\n",
        "    X = self.features[idx]\n",
        "    y = self.target[idx]\n",
        "    return X, y"
      ],
      "metadata": {
        "id": "GOGdjutPWj_2"
      }
    },
    {
      "cell_type": "code",
      "source": [
        "#Create a custom Dataset class\n",
        "\n",
        "class FetusDataset(Dataset):\n",
        "  def __init__(self, X, y):\n",
        "    #Convert into PyTorch tensors and remember them\n",
        "    self.X = torch.tensor(X, dtype=torch.float32)\n",
        "    self.y = y\n",
        "\n",
        "  def __len__(self):\n",
        "     # this should return the size of the dataset\n",
        "    return len(self.X)\n",
        "\n",
        "  def __getitem__(self, idx):\n",
        "    features = self.X[idx]\n",
        "    target   = self.y[idx]\n",
        "    return features, target\n",
        "\n",
        ""
      ],
      "metadata": {
        "id": "Mxd7Bk5PQKDA"
      },
      "execution_count": 45,
      "outputs": []
    },
    {
      "cell_type": "code",
      "source": [
        "#Set DataLoader for Dataset\n",
        "\n",
        "train_dataset = FetusDataset(X, y)\n",
        "test_dataset  = FetusDataset(X_test, y_test)\n",
        "\n",
        "#Split train data and  test data (70% train data, 20% testing)\n",
        "split_lengths = [int(0.7 * len(train_dataset)), len(train_dataset) - int(0.7 * len(train_dataset))]\n",
        "trainset, testset = random_split(train_dataset, split_lengths)\n",
        "\n",
        "train_loader  = DataLoader(trainset, shuffle=True, batch_size=1)\n",
        "test_loader   = DataLoader(testset, shuffle=False, batch_size=1)\n",
        "\n",
        "# Sum the labels within the training dataset\n",
        "num_samples_label_1 = sum(sample[1] for sample in train_dataset)\n",
        "\n",
        "print(f\"Ratio of training samples with label 1: {num_samples_label_1}/{len(train_dataset)}\")\n"
      ],
      "metadata": {
        "colab": {
          "base_uri": "https://localhost:8080/"
        },
        "id": "hQssvHf-ZXmk",
        "outputId": "d55efc4b-9a60-4e7f-da66-19000ec96c6b"
      },
      "execution_count": 46,
      "outputs": [
        {
          "output_type": "stream",
          "name": "stdout",
          "text": [
            "Ratio of training samples with label 1: 173.0/346\n"
          ]
        }
      ]
    }
  ]
}